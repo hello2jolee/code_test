{
 "cells": [
  {
   "cell_type": "code",
   "execution_count": 1,
   "id": "2517c119",
   "metadata": {},
   "outputs": [],
   "source": [
    "# https://programmers.co.kr/learn/courses/30/lessons/43165"
   ]
  },
  {
   "cell_type": "code",
   "execution_count": null,
   "id": "72d3ad23",
   "metadata": {},
   "outputs": [],
   "source": [
    "def solution(numbers, target):\n",
    "    super=[0]\n",
    "    for i in numbers:\n",
    "        sub=[]\n",
    "        for j in super:\n",
    "            sub.append(j+i)\n",
    "            sub.append(j-i)\n",
    "        super=sub\n",
    "    return super.count(target)"
   ]
  }
 ],
 "metadata": {
  "kernelspec": {
   "display_name": "Python 3 (ipykernel)",
   "language": "python",
   "name": "python3"
  },
  "language_info": {
   "codemirror_mode": {
    "name": "ipython",
    "version": 3
   },
   "file_extension": ".py",
   "mimetype": "text/x-python",
   "name": "python",
   "nbconvert_exporter": "python",
   "pygments_lexer": "ipython3",
   "version": "3.8.2"
  }
 },
 "nbformat": 4,
 "nbformat_minor": 5
}

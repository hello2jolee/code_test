{
 "cells": [
  {
   "cell_type": "code",
   "execution_count": 1,
   "id": "2fd99ee1",
   "metadata": {},
   "outputs": [],
   "source": [
    "# https://programmers.co.kr/learn/courses/30/lessons/42888"
   ]
  },
  {
   "cell_type": "code",
   "execution_count": 4,
   "id": "e3bea208",
   "metadata": {},
   "outputs": [],
   "source": [
    "def solution(record):\n",
    "    answer=[]\n",
    "    userDB = dict()\n",
    "    actions=[]\n",
    "    \n",
    "    for event in record:\n",
    "        info=event.split()\n",
    "        action, userid=info[0], info[1]\n",
    "        if action in (\"Enter\", \"Change\"):\n",
    "            nickname=info[2]\n",
    "            userDB[userid]=nickname\n",
    "        actions.append((action, userid))\n",
    "    \n",
    "    for actionInfo in actions:\n",
    "        action, userid = actionInfo[0], actionInfo[1]\n",
    "        if action=='Enter':\n",
    "            answer.append(f'{userDB[userid]}님이 들어왔습니다.')\n",
    "        elif action=='Leave':\n",
    "            answer.append(f'{userDB[userid]}님이 나갔습니다.')\n",
    "    \n",
    "    return answer"
   ]
  },
  {
   "cell_type": "code",
   "execution_count": 5,
   "id": "b7081cb7",
   "metadata": {},
   "outputs": [
    {
     "data": {
      "text/plain": [
       "['Prodo님이 들어왔습니다', 'Ryan님이 들어왔습니다', 'Prodo님이 나갔습니다.', 'Prodo님이 들어왔습니다']"
      ]
     },
     "execution_count": 5,
     "metadata": {},
     "output_type": "execute_result"
    }
   ],
   "source": [
    "solution([\"Enter uid1234 Muzi\", \"Enter uid4567 Prodo\",\"Leave uid1234\",\"Enter uid1234 Prodo\",\"Change uid4567 Ryan\"])"
   ]
  }
 ],
 "metadata": {
  "kernelspec": {
   "display_name": "Python 3 (ipykernel)",
   "language": "python",
   "name": "python3"
  },
  "language_info": {
   "codemirror_mode": {
    "name": "ipython",
    "version": 3
   },
   "file_extension": ".py",
   "mimetype": "text/x-python",
   "name": "python",
   "nbconvert_exporter": "python",
   "pygments_lexer": "ipython3",
   "version": "3.8.2"
  }
 },
 "nbformat": 4,
 "nbformat_minor": 5
}

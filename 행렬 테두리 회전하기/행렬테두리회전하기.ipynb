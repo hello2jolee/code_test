{
 "cells": [
  {
   "cell_type": "code",
   "execution_count": 1,
   "id": "cfb0c0ea",
   "metadata": {},
   "outputs": [],
   "source": [
    "# https://programmers.co.kr/learn/courses/30/lessons/77485"
   ]
  },
  {
   "cell_type": "code",
   "execution_count": 6,
   "id": "5fcad45e",
   "metadata": {},
   "outputs": [],
   "source": [
    "def solution(rows, columns, queries):\n",
    "    matrix = [[row * columns + col + 1 for col in range(columns)] for row in range(rows)]\n",
    "    answer = []\n",
    "    \n",
    "    for t, l, b, r in queries:\n",
    "        top, left, bottom, right = t-1, l-1, b-1, r-1\n",
    "        tmp = matrix[top][left]\n",
    "        minimum = tmp\n",
    "        \n",
    "        for y in range(top, bottom):\n",
    "            value = matrix[y+1][left]\n",
    "            matrix[y][left] = value\n",
    "            minimum = min(minimum, value)\n",
    "            \n",
    "        for x in range(left, right):\n",
    "            value = matrix[bottom][x+1]\n",
    "            matrix[bottom][x] = value\n",
    "            minimum = min(minimum, value)\n",
    "        \n",
    "        for y in range(bottom, top, -1):\n",
    "            value = matrix[y-1][right]\n",
    "            matrix[y][right] = value\n",
    "            minimum = min(minimum, value)\n",
    "        \n",
    "        for x in range(right, left, -1):\n",
    "            value = matrix[top][x-1]\n",
    "            matrix[top][x] = value \n",
    "            minimum = min(minimum, value)\n",
    "        \n",
    "        matrix[top][left+1] = tmp\n",
    "        answer.append(minimum)\n",
    "    return answer \n"
   ]
  },
  {
   "cell_type": "code",
   "execution_count": 7,
   "id": "49bac447",
   "metadata": {},
   "outputs": [
    {
     "data": {
      "text/plain": [
       "[1, 1, 5, 3]"
      ]
     },
     "execution_count": 7,
     "metadata": {},
     "output_type": "execute_result"
    }
   ],
   "source": [
    "solution(3, 3, [[1,1,2,2],[1,2,2,3],[2,1,3,2],[2,2,3,3]])"
   ]
  }
 ],
 "metadata": {
  "kernelspec": {
   "display_name": "Python 3 (ipykernel)",
   "language": "python",
   "name": "python3"
  },
  "language_info": {
   "codemirror_mode": {
    "name": "ipython",
    "version": 3
   },
   "file_extension": ".py",
   "mimetype": "text/x-python",
   "name": "python",
   "nbconvert_exporter": "python",
   "pygments_lexer": "ipython3",
   "version": "3.8.2"
  }
 },
 "nbformat": 4,
 "nbformat_minor": 5
}

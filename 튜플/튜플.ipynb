{
 "cells": [
  {
   "cell_type": "code",
   "execution_count": 1,
   "id": "5de0fe2d",
   "metadata": {},
   "outputs": [],
   "source": [
    "# https://programmers.co.kr/learn/courses/30/lessons/64065"
   ]
  },
  {
   "cell_type": "code",
   "execution_count": 12,
   "id": "4ffafb58",
   "metadata": {},
   "outputs": [],
   "source": [
    "def solution(s):\n",
    "    answer = []\n",
    "    s = s[2:-2].split('},{')\n",
    "    s = sorted(s, key = len)\n",
    "    for element in s:\n",
    "        num_in_element = element.split(',')\n",
    "        for num in num_in_element:\n",
    "            num = int(num)\n",
    "            if num not in answer:\n",
    "                answer.append(num)\n",
    "    return answer "
   ]
  },
  {
   "cell_type": "code",
   "execution_count": 13,
   "id": "4dfd5b73",
   "metadata": {},
   "outputs": [
    {
     "data": {
      "text/plain": [
       "[2, 1, 3, 4]"
      ]
     },
     "execution_count": 13,
     "metadata": {},
     "output_type": "execute_result"
    }
   ],
   "source": [
    " solution(\"{{2},{2,1},{2,1,3},{2,1,3,4}}\")"
   ]
  }
 ],
 "metadata": {
  "kernelspec": {
   "display_name": "Python 3 (ipykernel)",
   "language": "python",
   "name": "python3"
  },
  "language_info": {
   "codemirror_mode": {
    "name": "ipython",
    "version": 3
   },
   "file_extension": ".py",
   "mimetype": "text/x-python",
   "name": "python",
   "nbconvert_exporter": "python",
   "pygments_lexer": "ipython3",
   "version": "3.8.2"
  }
 },
 "nbformat": 4,
 "nbformat_minor": 5
}
